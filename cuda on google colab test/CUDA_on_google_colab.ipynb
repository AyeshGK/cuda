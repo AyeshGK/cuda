{
  "nbformat": 4,
  "nbformat_minor": 0,
  "metadata": {
    "colab": {
      "provenance": []
    },
    "kernelspec": {
      "name": "python3",
      "display_name": "Python 3"
    },
    "language_info": {
      "name": "python"
    },
    "accelerator": "GPU",
    "gpuClass": "standard"
  },
  "cells": [
    {
      "cell_type": "code",
      "execution_count": 4,
      "metadata": {
        "id": "KU5nAT1qvRF6"
      },
      "outputs": [],
      "source": [
        "import torch"
      ]
    },
    {
      "cell_type": "code",
      "source": [
        "torch.cuda.is_available()"
      ],
      "metadata": {
        "colab": {
          "base_uri": "https://localhost:8080/"
        },
        "id": "QH0pEa76vhq5",
        "outputId": "27541aa3-fdc7-4d61-80b3-9f67838a364d"
      },
      "execution_count": 5,
      "outputs": [
        {
          "output_type": "execute_result",
          "data": {
            "text/plain": [
              "True"
            ]
          },
          "metadata": {},
          "execution_count": 5
        }
      ]
    },
    {
      "cell_type": "code",
      "source": [
        "if torch.cuda.is_available():\n",
        "  device = torch.device(\"cuda\")\n",
        "else:\n",
        "  device = torch.device(\"CPU\")\n",
        "\n",
        "print(\"using\",device,\"device\")"
      ],
      "metadata": {
        "colab": {
          "base_uri": "https://localhost:8080/"
        },
        "id": "7ksSPop_vtHF",
        "outputId": "47ba294e-361b-4564-91f9-eeee5e7b3d6e"
      },
      "execution_count": 6,
      "outputs": [
        {
          "output_type": "stream",
          "name": "stdout",
          "text": [
            "using cuda device\n"
          ]
        }
      ]
    },
    {
      "cell_type": "code",
      "source": [
        "import time \n",
        "\n",
        "\n",
        "matrix_size = 32*512\n",
        "\n",
        "x = torch.randn(matrix_size,matrix_size)\n",
        "y = torch.randn(matrix_size,matrix_size)\n",
        "\n",
        "print(\"CPU testing\")\n",
        "start = time.time()\n",
        "result = torch.matmul(x,y)\n",
        "print(time.time()-start)\n",
        "print(\"verify device\",result.device)\n",
        "\n",
        "\n",
        "x_gpu = x.to(device)\n",
        "y_gpu = y.to(device)\n",
        "torch.cuda.synchronize()\n",
        "\n",
        "for i in range(3):\n",
        "  print(\"GPU testing\")\n",
        "  start = time.time()\n",
        "  result_gpu = torch.matmul(x_gpu,y_gpu)\n",
        "  torch.cuda.synchronize()\n",
        "  print(time.time()-start)\n",
        "  print(\"verify device\",result_gpu.device)\n"
      ],
      "metadata": {
        "colab": {
          "base_uri": "https://localhost:8080/"
        },
        "id": "lPDNeQfUwCIg",
        "outputId": "01d5a68d-3057-4a88-a603-fc57bfdcc862"
      },
      "execution_count": 7,
      "outputs": [
        {
          "output_type": "stream",
          "name": "stdout",
          "text": [
            "CPU testing\n",
            "65.33348274230957\n",
            "verify device cpu\n",
            "GPU testing\n",
            "4.393291473388672\n",
            "verify device cuda:0\n",
            "GPU testing\n",
            "2.1633968353271484\n",
            "verify device cuda:0\n",
            "GPU testing\n",
            "2.18243670463562\n",
            "verify device cuda:0\n"
          ]
        }
      ]
    }
  ]
}